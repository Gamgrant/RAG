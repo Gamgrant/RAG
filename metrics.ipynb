{
 "cells": [
  {
   "cell_type": "code",
   "execution_count": 2,
   "metadata": {},
   "outputs": [],
   "source": [
    "from nltk.translate.bleu_score import sentence_bleu\n",
    "from nltk import word_tokenize\n",
    "import json\n",
    "from utils import write_jsonl\n"
   ]
  },
  {
   "cell_type": "code",
   "execution_count": 16,
   "metadata": {},
   "outputs": [],
   "source": [
    "def calculate_bleu(candidate, reference):\n",
    "    '''\n",
    "    candidate, reference: generated and ground-truth sentences\n",
    "    '''\n",
    "    weights = [\n",
    "         (1./2., 1./2.),\n",
    "         (1./3., 1./3., 1./3.),\n",
    "         (1./4., 1./4., 1./4., 1./4.)\n",
    "    ]\n",
    "    reference = reference.strip().split()\n",
    "    candidate = candidate.strip().split()\n",
    "    score = sentence_bleu([reference], candidate, weights=weights)\n",
    "    return score"
   ]
  },
  {
   "cell_type": "code",
   "execution_count": 22,
   "metadata": {},
   "outputs": [],
   "source": [
    "llama_output_path = '/Users/raunaksood/Desktop/RAG/deepseek7B_results_bleu.jsonl'\n",
    "save_path = '/Users/raunaksood/Desktop/RAG/deepseek7B_results_bleu_NEW.jsonl'\n",
    "with open(llama_output_path) as f:\n",
    "    llama_outputs = [json.loads(line) for line in f]\n",
    "\n",
    "responses = [llama_outputs[i]['response'] for i in range(len(llama_outputs))]\n",
    "answers = [llama_outputs[i]['answer'] for i in range(len(llama_outputs))]\n",
    "questions = [llama_outputs[i]['question'] for i in range(len(llama_outputs))]\n",
    "bleus = [llama_outputs[i]['bleu'] for i in range(len(llama_outputs))]\n",
    "\n",
    "res = []\n",
    "for i in range(len(responses)):\n",
    "    question = questions[i]\n",
    "    response = responses[i]\n",
    "    answer = answers[i]\n",
    "    bleu = bleus[i]\n",
    "    match = response == answer\n",
    "    res.append({'question' : question, 'response' : response, 'answer' : answer, 'bleu' : bleu, 'match' : match})\n",
    "\n",
    "    \n",
    "write_jsonl(save_path, res)"
   ]
  },
  {
   "cell_type": "code",
   "execution_count": null,
   "metadata": {},
   "outputs": [],
   "source": []
  }
 ],
 "metadata": {
  "kernelspec": {
   "display_name": "dl_env",
   "language": "python",
   "name": "python3"
  },
  "language_info": {
   "codemirror_mode": {
    "name": "ipython",
    "version": 3
   },
   "file_extension": ".py",
   "mimetype": "text/x-python",
   "name": "python",
   "nbconvert_exporter": "python",
   "pygments_lexer": "ipython3",
   "version": "3.13.0"
  }
 },
 "nbformat": 4,
 "nbformat_minor": 2
}
